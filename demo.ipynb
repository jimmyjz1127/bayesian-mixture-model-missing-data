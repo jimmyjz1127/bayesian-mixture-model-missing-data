{
 "cells": [
  {
   "cell_type": "code",
   "execution_count": 1,
   "id": "2f6e06a2",
   "metadata": {},
   "outputs": [],
   "source": [
    "import sys\n",
    "import os \n",
    "\n",
    "project_root = os.path.abspath(os.path.join(os.getcwd(), '..'))\n",
    "if project_root not in sys.path:\n",
    "    sys.path.append(project_root)\n",
    "\n",
    "import matplotlib.pyplot as plt\n",
    "import numpy as np\n",
    "import numpy.linalg as linalg\n",
    "import pandas as pd\n",
    "\n",
    "from scipy.special import logsumexp\n",
    "from scipy.special import softmax\n",
    "from scipy.stats import invwishart\n",
    "from scipy.stats import multivariate_normal\n",
    "\n",
    "from sklearn.cluster import KMeans\n",
    "\n",
    "from sklearn import metrics\n",
    "import scipy.sparse as sparse\n",
    "\n",
    "\n",
    "from sklearn.metrics import accuracy_score, precision_recall_fscore_support\n",
    "from sklearn.metrics import confusion_matrix\n",
    "from sklearn.metrics import adjusted_rand_score\n",
    "\n",
    "import seaborn as sns\n",
    "from sklearn.metrics import mean_squared_error\n",
    "\n",
    "\n",
    "from datasets.Dataset import Dataset\n",
    "\n",
    "import random\n",
    "\n",
    "from models.PriorParameters import GMMPriorParameters\n",
    "from models.PriorParameters import BMMPriorParameters\n",
    "from models.GMMGibbs import GMMGibbs\n",
    "from models.BMMGibbs import BMMGibbs\n",
    "from models.GMMVBEM import GMMVBEM\n",
    "from models.BMMVBEM import BMMVBEM\n",
    "from models.BMMEM import BMMEM\n",
    "from models.GMMEM import GMMEM\n",
    "from models.KMeans import CustomKMeans\n",
    "\n",
    "from utils.EvaluationUtilities import multi_restart, rmse\n",
    "from utils.ArbitraryImputer import mean_impute, median_impute, mode_impute"
   ]
  },
  {
   "cell_type": "code",
   "execution_count": 12,
   "id": "fa8e4468",
   "metadata": {},
   "outputs": [],
   "source": [
    "X_train_shapes = np.load(\"./Datasets/Bernoulli/Processed/shapes/X_train_shapes.npy\")\n",
    "y_train_shapes = np.load(\"./Datasets/Bernoulli/Processed/shapes/y_train_shapes.npy\")\n",
    "dataset_shapes = Dataset(X_train_shapes, y_train_shapes)\n",
    "X_cover_shapes = dataset_shapes.apply_missingness(0.8)[0]"
   ]
  },
  {
   "cell_type": "code",
   "execution_count": 13,
   "id": "ef6bbbdb",
   "metadata": {},
   "outputs": [
    {
     "name": "stdout",
     "output_type": "stream",
     "text": [
      "0.9748430883846333\n"
     ]
    }
   ],
   "source": [
    "params = BMMPriorParameters(X_cover_shapes, 3)\n",
    "bmm_model = BMMVBEM(params)\n",
    "samples = bmm_model.fit(X_cover_shapes)\n",
    "print(adjusted_rand_score(samples['z'], y_train_shapes))"
   ]
  },
  {
   "cell_type": "code",
   "execution_count": 7,
   "id": "3dd11662",
   "metadata": {},
   "outputs": [],
   "source": [
    "dirpath_synthetic = \"./Datasets/Bernoulli/Processed/synthetic/\"\n",
    "\n",
    "X_train_synthetic = np.load(dirpath_synthetic + \"X_train_synthetic.npy\")\n",
    "y_train_synthetic = np.load(dirpath_synthetic + \"y_train_synthetic.npy\")\n",
    "X_test_synthetic = np.load(dirpath_synthetic + \"X_test_synthetic.npy\")\n",
    "y_test_synthetic = np.load(dirpath_synthetic + \"y_test_synthetic.npy\")\n",
    "means = np.load(dirpath_synthetic + \"means_synthetic.npy\")\n",
    "\n",
    "bmm_synthetic_dataset = Dataset(X_train_synthetic, y_train_synthetic)"
   ]
  },
  {
   "cell_type": "code",
   "execution_count": 8,
   "id": "36c5ec47",
   "metadata": {},
   "outputs": [],
   "source": [
    "X_cover1,_ = bmm_synthetic_dataset.apply_missingness(0.1)"
   ]
  },
  {
   "cell_type": "code",
   "execution_count": 9,
   "id": "264ca7fc",
   "metadata": {},
   "outputs": [
    {
     "name": "stdout",
     "output_type": "stream",
     "text": [
      "0.3770837601454857\n"
     ]
    }
   ],
   "source": [
    "synthetic_params = BMMPriorParameters(X_cover1, 5)\n",
    "vbem_gmm_model = BMMVBEM(synthetic_params)\n",
    "result = vbem_gmm_model.fit(X_cover1)\n",
    "print(adjusted_rand_score(result['z'], y_train_synthetic))"
   ]
  }
 ],
 "metadata": {
  "kernelspec": {
   "display_name": "myenv",
   "language": "python",
   "name": "python3"
  },
  "language_info": {
   "codemirror_mode": {
    "name": "ipython",
    "version": 3
   },
   "file_extension": ".py",
   "mimetype": "text/x-python",
   "name": "python",
   "nbconvert_exporter": "python",
   "pygments_lexer": "ipython3",
   "version": "3.9.21"
  }
 },
 "nbformat": 4,
 "nbformat_minor": 5
}
